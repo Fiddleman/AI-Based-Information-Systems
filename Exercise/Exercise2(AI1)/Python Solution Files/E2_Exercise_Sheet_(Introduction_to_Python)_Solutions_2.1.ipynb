{
 "cells": [
  {
   "cell_type": "markdown",
   "metadata": {},
   "source": [
    "# AI 1 Exercise 2: \"Introduction to Python\"\n",
    "\n",
    "## 2.1 General Python Capabilities\n",
    "\n",
    "### 1. Magic Commands \n",
    "#### 1-a) Write the Pythagorian Theorem using latex code."
   ]
  },
  {
   "cell_type": "code",
   "execution_count": 13,
   "metadata": {},
   "outputs": [
    {
     "data": {
      "text/latex": [
       "$$c = \\sqrt{a^2 + b^2}$$\n"
      ],
      "text/plain": [
       "<IPython.core.display.Latex object>"
      ]
     },
     "metadata": {},
     "output_type": "display_data"
    }
   ],
   "source": [
    "%%latex\n",
    "$$c = \\sqrt{a^2 + b^2}$$"
   ]
  },
  {
   "cell_type": "markdown",
   "metadata": {},
   "source": [
    "#### 1-b) What is the difference between \"%magic\" and \"%%magic\"?"
   ]
  },
  {
   "cell_type": "code",
   "execution_count": null,
   "metadata": {},
   "outputs": [],
   "source": [
    "# Magic commands with a single “%“ are called “line magic“ and only refer to the line in which they are inserted. \n",
    "# Magic comands with “%%“ are called “cell magic“ and refer to the whole cell."
   ]
  },
  {
   "cell_type": "markdown",
   "metadata": {},
   "source": [
    "#### 1-c) You can try out further %magic commands, e.g., %who or %time.\n",
    "\n",
    "* **Note:** Regarding %time, wall clock time is the actual amount of time taken to perform a job. This is equivalent to timing your job with a stopwatch and the measured time to complete your task can be affected by anything else that the system happens to be doing at the time."
   ]
  },
  {
   "cell_type": "code",
   "execution_count": 18,
   "metadata": {},
   "outputs": [
    {
     "name": "stdout",
     "output_type": "stream",
     "text": [
      "m\t n\t name\t name2\t \n",
      "name\t name2\t \n",
      "m\t n\t \n",
      "CPU times: user 3 µs, sys: 1 µs, total: 4 µs\n",
      "Wall time: 5.72 µs\n"
     ]
    }
   ],
   "source": [
    "n = 42\n",
    "m = 10 \n",
    "name = \"Vader, Darth\"\n",
    "name2 = \"Targaryen, Daenerys\"\n",
    "\n",
    "# 1. %who\n",
    "# list all your defined variables (and functions):\n",
    "%who\n",
    "# list all your defined variables that are strings:\n",
    "%who str\n",
    "# list all your defined variables that are integers:\n",
    "%who int\n",
    "\n",
    "# 2. %time\n",
    "%time"
   ]
  },
  {
   "cell_type": "markdown",
   "metadata": {},
   "source": [
    "### 2. Tuples, Lists, and DataFrames\n",
    "#### 2-a) Create a python tuple with the following input:\n",
    "**{spicy soup, spicy chicken, spicy salad, simple soup, simple chicken, raw chicken}**\n",
    "\n",
    "**Why is it usually not practical to use tuples?**\n"
   ]
  },
  {
   "cell_type": "code",
   "execution_count": 25,
   "metadata": {},
   "outputs": [
    {
     "name": "stdout",
     "output_type": "stream",
     "text": [
      "{'spicy chicken', 'raw chicken', 'simple soup', 'spicy salad', 'spicy soup', 'simple chicken'}\n"
     ]
    }
   ],
   "source": [
    "tup = {\"spicy soup\", \"spicy chicken\", \"spicy salad\", \"simple soup\", \"simple chicken\", \"raw chicken\"}\n",
    "print(tup)\n",
    "\n",
    "# The use of tuples is only reasonable if you have a set of data that you never want to\n",
    "# change or when you want to make sure it does not get changed."
   ]
  },
  {
   "cell_type": "markdown",
   "metadata": {},
   "source": [
    "#### 2-b) Transform the tuple into a pandas list. Then, transform it into a pandas dataframe with the two columns “adjective” and “noun”."
   ]
  },
  {
   "cell_type": "code",
   "execution_count": 36,
   "metadata": {},
   "outputs": [
    {
     "name": "stdout",
     "output_type": "stream",
     "text": [
      "  adjective     noun\n",
      "0     spicy  chicken\n",
      "1       raw  chicken\n",
      "2    simple     soup\n",
      "3     spicy    salad\n",
      "4     spicy     soup\n",
      "5    simple  chicken\n"
     ]
    }
   ],
   "source": [
    "import pandas as pd\n",
    "import numpy as np\n",
    "import matplotlib.pyplot as plt\n",
    "\n",
    "food = list(tup)\n",
    "y = list()\n",
    "\n",
    "for i in range(len(food)):\n",
    "    x = food[i].split()\n",
    "    y.append(x)\n",
    "    \n",
    "df = pd.DataFrame(y, columns=['adjective','noun'])\n",
    "\n",
    "print(df)"
   ]
  },
  {
   "cell_type": "markdown",
   "metadata": {},
   "source": [
    "#### 2-c) Replace “spicy“ with “peppery” for all dishes."
   ]
  },
  {
   "cell_type": "code",
   "execution_count": 35,
   "metadata": {},
   "outputs": [
    {
     "name": "stdout",
     "output_type": "stream",
     "text": [
      "  adjective     noun\n",
      "0   peppery  chicken\n",
      "1       raw  chicken\n",
      "2    simple     soup\n",
      "3   peppery    salad\n",
      "4   peppery     soup\n",
      "5    simple  chicken\n"
     ]
    }
   ],
   "source": [
    "df['adjective'].replace('spicy','peppery',inplace=True)\n",
    "print(df)"
   ]
  },
  {
   "cell_type": "markdown",
   "metadata": {},
   "source": [
    "### 3. Classes in Python\n",
    "\n",
    "#### 3-a) Create a class “child” having the attributes name, age, height, and weight."
   ]
  },
  {
   "cell_type": "code",
   "execution_count": 48,
   "metadata": {},
   "outputs": [],
   "source": [
    "class Child:\n",
    "    def __init__(self,name, age, height, weight):\n",
    "        self.name = name\n",
    "        self.age = age\n",
    "        self.height = height\n",
    "        self.weight = weight\n",
    "\n",
    "someChild = Child(\"Skywalker, Luke\", 12, 145, 45)"
   ]
  },
  {
   "cell_type": "markdown",
   "metadata": {},
   "source": [
    "#### 3-b) Now, create a class “adult” that inherits the attributes of “child” and has the additional attribute occupation."
   ]
  },
  {
   "cell_type": "code",
   "execution_count": 50,
   "metadata": {},
   "outputs": [],
   "source": [
    "class Adult(child):\n",
    "    def __init__(self,name, age, height, weight, occupation):\n",
    "        super().__init__(name, age, height, weight)\n",
    "        #child.__init__(self,name, age, height, weight)  ## this is an alternative to the previous line\n",
    "        self.occupation = occupation\n",
    "        \n",
    "someAdult = Adult(\"Skywalker, Anakin\", 38, 185, 88, \"Dark Lord\")"
   ]
  },
  {
   "cell_type": "markdown",
   "metadata": {},
   "source": [
    "### 4. Pandas DataFrame\n",
    "\n",
    "#### 4-a) Generate a pandas dataframe with size 10,000x3 filled with random integers between 0-1,000 and the column labels “A”, “B”, and “C”."
   ]
  },
  {
   "cell_type": "code",
   "execution_count": 51,
   "metadata": {},
   "outputs": [
    {
     "name": "stdout",
     "output_type": "stream",
     "text": [
      "        A    B    C    D\n",
      "0     439  946  700  999\n",
      "1      96  831  911  667\n",
      "2     878  635  880  480\n",
      "3     184  546  513  218\n",
      "4     458  822  686  859\n",
      "...   ...  ...  ...  ...\n",
      "9995  357  199  429  456\n",
      "9996  262  898  432   57\n",
      "9997  857  817  180  568\n",
      "9998  607  639  270  591\n",
      "9999  490  158  928  137\n",
      "\n",
      "[10000 rows x 4 columns]\n"
     ]
    }
   ],
   "source": [
    "rnd = pd.DataFrame(np.random.randint(0,1000,size=(10000,4)), columns=list('ABCD'))\n",
    "print(rnd)"
   ]
  },
  {
   "cell_type": "markdown",
   "metadata": {},
   "source": [
    "#### 4-b) Measure how long the creation of that dataframe takes and how much memory it uses"
   ]
  },
  {
   "cell_type": "code",
   "execution_count": 58,
   "metadata": {},
   "outputs": [
    {
     "name": "stdout",
     "output_type": "stream",
     "text": [
      "CPU times: user 4 µs, sys: 1e+03 ns, total: 5 µs\n",
      "Wall time: 10 µs\n"
     ]
    }
   ],
   "source": [
    "# Time Measurement with %time:\n",
    "rnd = pd.DataFrame(np.random.randint(0,1000,size=(10000,4)), columns=list('ABCD')) \n",
    "%time"
   ]
  },
  {
   "cell_type": "code",
   "execution_count": 61,
   "metadata": {},
   "outputs": [
    {
     "name": "stdout",
     "output_type": "stream",
     "text": [
      "766 µs ± 159 µs per loop (mean ± std. dev. of 7 runs, 1000 loops each)\n"
     ]
    }
   ],
   "source": [
    "# Time Measurement with %timeit:\n",
    "%timeit rnd = pd.DataFrame(np.random.randint(0,1000,size=(10000,4)), columns=list('ABCD')) "
   ]
  },
  {
   "cell_type": "code",
   "execution_count": 62,
   "metadata": {},
   "outputs": [
    {
     "name": "stdout",
     "output_type": "stream",
     "text": [
      "<class 'pandas.core.frame.DataFrame'>\n",
      "RangeIndex: 10000 entries, 0 to 9999\n",
      "Data columns (total 4 columns):\n",
      "A    10000 non-null int64\n",
      "B    10000 non-null int64\n",
      "C    10000 non-null int64\n",
      "D    10000 non-null int64\n",
      "dtypes: int64(4)\n",
      "memory usage: 312.6 KB\n"
     ]
    }
   ],
   "source": [
    "# Memory Measurement with .info():\n",
    "rnd.info()"
   ]
  },
  {
   "cell_type": "markdown",
   "metadata": {},
   "source": [
    "#### 4-c) Provide some basic statistical values of the dataframe’s data"
   ]
  },
  {
   "cell_type": "code",
   "execution_count": 63,
   "metadata": {},
   "outputs": [
    {
     "data": {
      "text/html": [
       "<div>\n",
       "<style scoped>\n",
       "    .dataframe tbody tr th:only-of-type {\n",
       "        vertical-align: middle;\n",
       "    }\n",
       "\n",
       "    .dataframe tbody tr th {\n",
       "        vertical-align: top;\n",
       "    }\n",
       "\n",
       "    .dataframe thead th {\n",
       "        text-align: right;\n",
       "    }\n",
       "</style>\n",
       "<table border=\"1\" class=\"dataframe\">\n",
       "  <thead>\n",
       "    <tr style=\"text-align: right;\">\n",
       "      <th></th>\n",
       "      <th>A</th>\n",
       "      <th>B</th>\n",
       "      <th>C</th>\n",
       "      <th>D</th>\n",
       "    </tr>\n",
       "  </thead>\n",
       "  <tbody>\n",
       "    <tr>\n",
       "      <td>count</td>\n",
       "      <td>10000.000000</td>\n",
       "      <td>10000.000000</td>\n",
       "      <td>10000.000000</td>\n",
       "      <td>10000.000000</td>\n",
       "    </tr>\n",
       "    <tr>\n",
       "      <td>mean</td>\n",
       "      <td>496.950800</td>\n",
       "      <td>502.359500</td>\n",
       "      <td>500.111800</td>\n",
       "      <td>499.985300</td>\n",
       "    </tr>\n",
       "    <tr>\n",
       "      <td>std</td>\n",
       "      <td>289.841585</td>\n",
       "      <td>288.042146</td>\n",
       "      <td>289.772134</td>\n",
       "      <td>288.900509</td>\n",
       "    </tr>\n",
       "    <tr>\n",
       "      <td>min</td>\n",
       "      <td>0.000000</td>\n",
       "      <td>0.000000</td>\n",
       "      <td>0.000000</td>\n",
       "      <td>0.000000</td>\n",
       "    </tr>\n",
       "    <tr>\n",
       "      <td>25%</td>\n",
       "      <td>247.000000</td>\n",
       "      <td>252.000000</td>\n",
       "      <td>249.000000</td>\n",
       "      <td>248.000000</td>\n",
       "    </tr>\n",
       "    <tr>\n",
       "      <td>50%</td>\n",
       "      <td>491.000000</td>\n",
       "      <td>506.000000</td>\n",
       "      <td>503.000000</td>\n",
       "      <td>501.500000</td>\n",
       "    </tr>\n",
       "    <tr>\n",
       "      <td>75%</td>\n",
       "      <td>749.000000</td>\n",
       "      <td>751.000000</td>\n",
       "      <td>753.000000</td>\n",
       "      <td>749.000000</td>\n",
       "    </tr>\n",
       "    <tr>\n",
       "      <td>max</td>\n",
       "      <td>999.000000</td>\n",
       "      <td>999.000000</td>\n",
       "      <td>999.000000</td>\n",
       "      <td>999.000000</td>\n",
       "    </tr>\n",
       "  </tbody>\n",
       "</table>\n",
       "</div>"
      ],
      "text/plain": [
       "                  A             B             C             D\n",
       "count  10000.000000  10000.000000  10000.000000  10000.000000\n",
       "mean     496.950800    502.359500    500.111800    499.985300\n",
       "std      289.841585    288.042146    289.772134    288.900509\n",
       "min        0.000000      0.000000      0.000000      0.000000\n",
       "25%      247.000000    252.000000    249.000000    248.000000\n",
       "50%      491.000000    506.000000    503.000000    501.500000\n",
       "75%      749.000000    751.000000    753.000000    749.000000\n",
       "max      999.000000    999.000000    999.000000    999.000000"
      ]
     },
     "execution_count": 63,
     "metadata": {},
     "output_type": "execute_result"
    }
   ],
   "source": [
    "rnd.describe()"
   ]
  },
  {
   "cell_type": "markdown",
   "metadata": {},
   "source": [
    "#### 4-d) Sort the first column and visualize the data of that column using some visualization of your choice."
   ]
  },
  {
   "cell_type": "code",
   "execution_count": 66,
   "metadata": {},
   "outputs": [
    {
     "name": "stdout",
     "output_type": "stream",
     "text": [
      "        A    B    C    D\n",
      "2860    0  295  847  390\n",
      "7542    0  303  251  237\n",
      "1495    0   48  931  377\n",
      "5643    0   58  800  262\n",
      "5033    0  709  650  532\n",
      "...   ...  ...  ...  ...\n",
      "1662  999  671  695  812\n",
      "1342  999  304  893  867\n",
      "5186  999  307  178  969\n",
      "6639  999  479   39  481\n",
      "9667  999  849  190  930\n",
      "\n",
      "[10000 rows x 4 columns]\n"
     ]
    },
    {
     "data": {
      "text/plain": [
       "{'whiskers': [<matplotlib.lines.Line2D at 0x1097794d0>,\n",
       "  <matplotlib.lines.Line2D at 0x109779a90>],\n",
       " 'caps': [<matplotlib.lines.Line2D at 0x109779f90>,\n",
       "  <matplotlib.lines.Line2D at 0x1097864d0>],\n",
       " 'boxes': [<matplotlib.lines.Line2D at 0x11b0ae890>],\n",
       " 'medians': [<matplotlib.lines.Line2D at 0x109786a10>],\n",
       " 'fliers': [<matplotlib.lines.Line2D at 0x109786f10>],\n",
       " 'means': []}"
      ]
     },
     "execution_count": 66,
     "metadata": {},
     "output_type": "execute_result"
    },
    {
     "data": {
      "image/png": "[encoded data removed]",
      "text/plain": [
       "<Figure size 432x288 with 1 Axes>"
      ]
     },
     "metadata": {
      "needs_background": "light"
     },
     "output_type": "display_data"
    }
   ],
   "source": [
    "rnd = rnd.sort_values(by=['A'])\n",
    "print(rnd)\n",
    "plt.boxplot(rnd[\"A\"])"
   ]
  }
 ],
 "metadata": {
  "kernelspec": {
   "display_name": "Python 3",
   "language": "python",
   "name": "python3"
  },
  "language_info": {
   "codemirror_mode": {
    "name": "ipython",
    "version": 3
   },
   "file_extension": ".py",
   "mimetype": "text/x-python",
   "name": "python",
   "nbconvert_exporter": "python",
   "pygments_lexer": "ipython3",
   "version": "3.7.4"
  }
 },
 "nbformat": 4,
 "nbformat_minor": 2
}
