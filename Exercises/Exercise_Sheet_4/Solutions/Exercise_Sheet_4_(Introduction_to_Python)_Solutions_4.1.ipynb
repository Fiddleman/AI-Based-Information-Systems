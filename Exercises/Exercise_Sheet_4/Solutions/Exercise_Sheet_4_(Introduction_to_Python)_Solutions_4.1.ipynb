{
 "cells": [
  {
   "cell_type": "markdown",
   "metadata": {},
   "source": [
    "# AI 1 Exercise 2: \"Introduction to Python\"\n",
    "\n",
    "## 2.1 General Python Capabilities\n",
    "\n",
    "### 1. Magic Commands \n",
    "#### 1-a) Write the Pythagorian Theorem using latex code."
   ]
  },
  {
   "cell_type": "code",
   "execution_count": 1,
   "metadata": {},
   "outputs": [
    {
     "data": {
      "text/latex": [
       "$$c = \\sqrt{a^2 + b^2}$$\n"
      ],
      "text/plain": [
       "<IPython.core.display.Latex object>"
      ]
     },
     "metadata": {},
     "output_type": "display_data"
    }
   ],
   "source": [
    "%%latex\n",
    "$$c = \\sqrt{a^2 + b^2}$$"
   ]
  },
  {
   "cell_type": "markdown",
   "metadata": {},
   "source": [
    "#### 1-b) What is the difference between \"%magic\" and \"%%magic\"?"
   ]
  },
  {
   "cell_type": "code",
   "execution_count": null,
   "metadata": {},
   "outputs": [],
   "source": [
    "# Magic commands with a single “%“ are called “line magic“ and only refer to the line in which they are inserted. \n",
    "# Magic comands with “%%“ are called “cell magic“ and refer to the whole cell."
   ]
  },
  {
   "cell_type": "markdown",
   "metadata": {},
   "source": [
    "#### 1-c) You can try out further %magic commands, e.g., %who or %time.\n",
    "\n",
    "* **Note:** Regarding %time, wall clock time is the actual amount of time taken to perform a job. This is equivalent to timing your job with a stopwatch and the measured time to complete your task can be affected by anything else that the system happens to be doing at the time."
   ]
  },
  {
   "cell_type": "code",
   "execution_count": 2,
   "metadata": {},
   "outputs": [
    {
     "name": "stdout",
     "output_type": "stream",
     "text": [
      "m\t n\t name\t name2\t \n",
      "name\t name2\t \n",
      "m\t n\t \n",
      "CPU times: user 4 µs, sys: 1 µs, total: 5 µs\n",
      "Wall time: 9.06 µs\n"
     ]
    }
   ],
   "source": [
    "n = 42\n",
    "m = 10 \n",
    "name = \"Vader, Darth\"\n",
    "name2 = \"Targaryen, Daenerys\"\n",
    "\n",
    "# 1. %who\n",
    "# list all your defined variables (and functions):\n",
    "%who\n",
    "# list all your defined variables that are strings:\n",
    "%who str\n",
    "# list all your defined variables that are integers:\n",
    "%who int\n",
    "\n",
    "# 2. %time\n",
    "%time"
   ]
  },
  {
   "cell_type": "markdown",
   "metadata": {},
   "source": [
    "### 2. Tuples, Lists, and DataFrames\n",
    "#### 2-a) Create a python tuple with the following input:\n",
    "**{spicy soup, spicy chicken, spicy salad, simple soup, simple chicken, raw chicken}**\n",
    "\n",
    "**Why is it usually not practical to use tuples?**\n"
   ]
  },
  {
   "cell_type": "code",
   "execution_count": 3,
   "metadata": {},
   "outputs": [
    {
     "name": "stdout",
     "output_type": "stream",
     "text": [
      "{'spicy salad', 'raw chicken', 'spicy chicken', 'spicy soup', 'simple soup', 'simple chicken'}\n"
     ]
    }
   ],
   "source": [
    "tup = {\"spicy soup\", \"spicy chicken\", \"spicy salad\", \"simple soup\", \"simple chicken\", \"raw chicken\"}\n",
    "print(tup)\n",
    "\n",
    "# The use of tuples is only reasonable if you have a set of data that you never want to\n",
    "# change or when you want to make sure it does not get changed."
   ]
  },
  {
   "cell_type": "markdown",
   "metadata": {},
   "source": [
    "#### 2-b) Transform the tuple into a pandas list. Then, transform it into a pandas dataframe with the two columns “adjective” and “noun”."
   ]
  },
  {
   "cell_type": "code",
   "execution_count": 4,
   "metadata": {},
   "outputs": [
    {
     "name": "stdout",
     "output_type": "stream",
     "text": [
      "  adjective     noun\n",
      "0     spicy    salad\n",
      "1       raw  chicken\n",
      "2     spicy  chicken\n",
      "3     spicy     soup\n",
      "4    simple     soup\n",
      "5    simple  chicken\n"
     ]
    }
   ],
   "source": [
    "import pandas as pd\n",
    "import numpy as np\n",
    "import matplotlib.pyplot as plt\n",
    "\n",
    "food = list(tup)\n",
    "y = list()\n",
    "\n",
    "for i in range(len(food)):\n",
    "    x = food[i].split()\n",
    "    y.append(x)\n",
    "    \n",
    "df = pd.DataFrame(y, columns=['adjective','noun'])\n",
    "\n",
    "print(df)"
   ]
  },
  {
   "cell_type": "markdown",
   "metadata": {},
   "source": [
    "#### 2-c) Replace “spicy“ with “peppery” for all dishes."
   ]
  },
  {
   "cell_type": "code",
   "execution_count": 5,
   "metadata": {},
   "outputs": [
    {
     "name": "stdout",
     "output_type": "stream",
     "text": [
      "  adjective     noun\n",
      "0   peppery    salad\n",
      "1       raw  chicken\n",
      "2   peppery  chicken\n",
      "3   peppery     soup\n",
      "4    simple     soup\n",
      "5    simple  chicken\n"
     ]
    }
   ],
   "source": [
    "df['adjective'].replace('spicy','peppery',inplace=True)\n",
    "print(df)"
   ]
  },
  {
   "cell_type": "markdown",
   "metadata": {},
   "source": [
    "### 3. Classes in Python\n",
    "\n",
    "#### 3-a) Create a class “child” having the attributes name, age, height, and weight."
   ]
  },
  {
   "cell_type": "code",
   "execution_count": 6,
   "metadata": {},
   "outputs": [],
   "source": [
    "class Child:\n",
    "    def __init__(self, name, age, height, weight):\n",
    "        self.name = name\n",
    "        self.age = age\n",
    "        self.height = height\n",
    "        self.weight = weight\n",
    "\n",
    "someChild = Child(\"Skywalker, Luke\", 12, 145, 45)"
   ]
  },
  {
   "cell_type": "markdown",
   "metadata": {},
   "source": [
    "#### 3-b) Now, create a class “adult” that inherits the attributes of “child” and has the additional attribute occupation."
   ]
  },
  {
   "cell_type": "code",
   "execution_count": 8,
   "metadata": {},
   "outputs": [],
   "source": [
    "class Adult(Child):\n",
    "    def __init__(self,name, age, height, weight, occupation):\n",
    "        super().__init__(name, age, height, weight)\n",
    "        #Child.__init__(self,name, age, height, weight)  ## this is an alternative to the previous line\n",
    "        self.occupation = occupation\n",
    "        \n",
    "someAdult = Adult(\"Skywalker, Anakin\", 38, 185, 88, \"Dark Lord\")"
   ]
  },
  {
   "cell_type": "markdown",
   "metadata": {},
   "source": [
    "### 4. Pandas DataFrame\n",
    "\n",
    "#### 4-a) Generate a pandas dataframe with size 10,000x3 filled with random integers between 0-1,000 and the column labels “A”, “B”, and “C”."
   ]
  },
  {
   "cell_type": "code",
   "execution_count": 7,
   "metadata": {},
   "outputs": [
    {
     "name": "stdout",
     "output_type": "stream",
     "text": [
      "        A    B    C\n",
      "0     518  962    7\n",
      "1     339  109  822\n",
      "2     712  748  373\n",
      "3     523  413  602\n",
      "4     503  312  488\n",
      "...   ...  ...  ...\n",
      "9995  161  883  904\n",
      "9996  700  604  855\n",
      "9997  505  615  656\n",
      "9998  920  685  854\n",
      "9999  715  968  244\n",
      "\n",
      "[10000 rows x 3 columns]\n"
     ]
    }
   ],
   "source": [
    "rnd = pd.DataFrame(np.random.randint(0,1000,size=(10000,3)), columns=list('ABC'))\n",
    "print(rnd)"
   ]
  },
  {
   "cell_type": "markdown",
   "metadata": {},
   "source": [
    "#### 4-b) Measure how long the creation of that dataframe takes and how much memory it uses"
   ]
  },
  {
   "cell_type": "code",
   "execution_count": 15,
   "metadata": {},
   "outputs": [
    {
     "name": "stdout",
     "output_type": "stream",
     "text": [
      "CPU times: user 5 µs, sys: 1 µs, total: 6 µs\n",
      "Wall time: 11 µs\n"
     ]
    }
   ],
   "source": [
    "# Time Measurement with %time:\n",
    "rnd = pd.DataFrame(np.random.randint(0,1000,size=(10000,4)), columns=list('ABCD')) \n",
    "%time"
   ]
  },
  {
   "cell_type": "code",
   "execution_count": 16,
   "metadata": {},
   "outputs": [
    {
     "name": "stdout",
     "output_type": "stream",
     "text": [
      "227 µs ± 1.14 µs per loop (mean ± std. dev. of 7 runs, 1000 loops each)\n"
     ]
    }
   ],
   "source": [
    "# Time Measurement with %timeit:\n",
    "%timeit rnd = pd.DataFrame(np.random.randint(0,1000,size=(10000,4)), columns=list('ABCD')) "
   ]
  },
  {
   "cell_type": "code",
   "execution_count": 17,
   "metadata": {},
   "outputs": [
    {
     "name": "stdout",
     "output_type": "stream",
     "text": [
      "<class 'pandas.core.frame.DataFrame'>\n",
      "RangeIndex: 10000 entries, 0 to 9999\n",
      "Data columns (total 4 columns):\n",
      " #   Column  Non-Null Count  Dtype\n",
      "---  ------  --------------  -----\n",
      " 0   A       10000 non-null  int64\n",
      " 1   B       10000 non-null  int64\n",
      " 2   C       10000 non-null  int64\n",
      " 3   D       10000 non-null  int64\n",
      "dtypes: int64(4)\n",
      "memory usage: 312.6 KB\n"
     ]
    }
   ],
   "source": [
    "# Memory Measurement with .info():\n",
    "rnd.info()"
   ]
  },
  {
   "cell_type": "markdown",
   "metadata": {},
   "source": [
    "#### 4-c) Provide some basic statistical values of the dataframe’s data"
   ]
  },
  {
   "cell_type": "code",
   "execution_count": 18,
   "metadata": {},
   "outputs": [
    {
     "data": {
      "text/html": [
       "<div>\n",
       "<style scoped>\n",
       "    .dataframe tbody tr th:only-of-type {\n",
       "        vertical-align: middle;\n",
       "    }\n",
       "\n",
       "    .dataframe tbody tr th {\n",
       "        vertical-align: top;\n",
       "    }\n",
       "\n",
       "    .dataframe thead th {\n",
       "        text-align: right;\n",
       "    }\n",
       "</style>\n",
       "<table border=\"1\" class=\"dataframe\">\n",
       "  <thead>\n",
       "    <tr style=\"text-align: right;\">\n",
       "      <th></th>\n",
       "      <th>A</th>\n",
       "      <th>B</th>\n",
       "      <th>C</th>\n",
       "      <th>D</th>\n",
       "    </tr>\n",
       "  </thead>\n",
       "  <tbody>\n",
       "    <tr>\n",
       "      <th>count</th>\n",
       "      <td>10000.000000</td>\n",
       "      <td>10000.000000</td>\n",
       "      <td>10000.000000</td>\n",
       "      <td>10000.000000</td>\n",
       "    </tr>\n",
       "    <tr>\n",
       "      <th>mean</th>\n",
       "      <td>499.465600</td>\n",
       "      <td>499.180000</td>\n",
       "      <td>506.167900</td>\n",
       "      <td>504.029300</td>\n",
       "    </tr>\n",
       "    <tr>\n",
       "      <th>std</th>\n",
       "      <td>289.427339</td>\n",
       "      <td>286.753245</td>\n",
       "      <td>288.105353</td>\n",
       "      <td>289.657434</td>\n",
       "    </tr>\n",
       "    <tr>\n",
       "      <th>min</th>\n",
       "      <td>0.000000</td>\n",
       "      <td>0.000000</td>\n",
       "      <td>0.000000</td>\n",
       "      <td>0.000000</td>\n",
       "    </tr>\n",
       "    <tr>\n",
       "      <th>25%</th>\n",
       "      <td>250.000000</td>\n",
       "      <td>250.000000</td>\n",
       "      <td>257.000000</td>\n",
       "      <td>254.000000</td>\n",
       "    </tr>\n",
       "    <tr>\n",
       "      <th>50%</th>\n",
       "      <td>497.000000</td>\n",
       "      <td>499.000000</td>\n",
       "      <td>514.000000</td>\n",
       "      <td>507.000000</td>\n",
       "    </tr>\n",
       "    <tr>\n",
       "      <th>75%</th>\n",
       "      <td>752.250000</td>\n",
       "      <td>746.000000</td>\n",
       "      <td>751.000000</td>\n",
       "      <td>755.000000</td>\n",
       "    </tr>\n",
       "    <tr>\n",
       "      <th>max</th>\n",
       "      <td>999.000000</td>\n",
       "      <td>999.000000</td>\n",
       "      <td>999.000000</td>\n",
       "      <td>999.000000</td>\n",
       "    </tr>\n",
       "  </tbody>\n",
       "</table>\n",
       "</div>"
      ],
      "text/plain": [
       "                  A             B             C             D\n",
       "count  10000.000000  10000.000000  10000.000000  10000.000000\n",
       "mean     499.465600    499.180000    506.167900    504.029300\n",
       "std      289.427339    286.753245    288.105353    289.657434\n",
       "min        0.000000      0.000000      0.000000      0.000000\n",
       "25%      250.000000    250.000000    257.000000    254.000000\n",
       "50%      497.000000    499.000000    514.000000    507.000000\n",
       "75%      752.250000    746.000000    751.000000    755.000000\n",
       "max      999.000000    999.000000    999.000000    999.000000"
      ]
     },
     "execution_count": 18,
     "metadata": {},
     "output_type": "execute_result"
    }
   ],
   "source": [
    "rnd.describe()"
   ]
  },
  {
   "cell_type": "markdown",
   "metadata": {},
   "source": [
    "#### 4-d) Sort the first column and visualize the data of that column using some visualization of your choice."
   ]
  },
  {
   "cell_type": "code",
   "execution_count": 19,
   "metadata": {},
   "outputs": [
    {
     "name": "stdout",
     "output_type": "stream",
     "text": [
      "        A    B    C    D\n",
      "4508    0  561  909  166\n",
      "7258    0  379  765  357\n",
      "1435    0  205   90   32\n",
      "932     0  962  371  290\n",
      "8707    0  784  570  994\n",
      "...   ...  ...  ...  ...\n",
      "5777  999  521  158   64\n",
      "7852  999  456  585  898\n",
      "9892  999  664   94  915\n",
      "5505  999  315  469  117\n",
      "3390  999  251  677  861\n",
      "\n",
      "[10000 rows x 4 columns]\n"
     ]
    },
    {
     "data": {
      "text/plain": [
       "{'whiskers': [<matplotlib.lines.Line2D at 0x7fa2a01dabe0>,\n",
       "  <matplotlib.lines.Line2D at 0x7fa2a01daeb0>],\n",
       " 'caps': [<matplotlib.lines.Line2D at 0x7fa2610e0280>,\n",
       "  <matplotlib.lines.Line2D at 0x7fa2610e0610>],\n",
       " 'boxes': [<matplotlib.lines.Line2D at 0x7fa2a01da790>],\n",
       " 'medians': [<matplotlib.lines.Line2D at 0x7fa2610e09a0>],\n",
       " 'fliers': [<matplotlib.lines.Line2D at 0x7fa2610e0d30>],\n",
       " 'means': []}"
      ]
     },
     "execution_count": 19,
     "metadata": {},
     "output_type": "execute_result"
    },
    {
     "data": {
      "image/png": "[encoded data removed]",
      "text/plain": [
       "<Figure size 432x288 with 1 Axes>"
      ]
     },
     "metadata": {
      "needs_background": "light"
     },
     "output_type": "display_data"
    }
   ],
   "source": [
    "rnd = rnd.sort_values(by=['A'])\n",
    "print(rnd)\n",
    "plt.boxplot(rnd[\"A\"])"
   ]
  }
 ],
 "metadata": {
  "kernelspec": {
   "display_name": "Python 3 (ipykernel)",
   "language": "python",
   "name": "python3"
  },
  "language_info": {
   "codemirror_mode": {
    "name": "ipython",
    "version": 3
   },
   "file_extension": ".py",
   "mimetype": "text/x-python",
   "name": "python",
   "nbconvert_exporter": "python",
   "pygments_lexer": "ipython3",
   "version": "3.9.7"
  }
 },
 "nbformat": 4,
 "nbformat_minor": 2
}
