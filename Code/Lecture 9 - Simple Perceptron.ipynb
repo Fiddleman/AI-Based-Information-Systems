{
 "cells": [
  {
   "cell_type": "markdown",
   "metadata": {},
   "source": [
    "# Lecture 9 - Simple Perceptron\n",
    "Use this script to test the different concepts from lecture 9 on your own perceptron."
   ]
  },
  {
   "cell_type": "code",
   "execution_count": 5,
   "metadata": {},
   "outputs": [],
   "source": [
    "# import relevant libraries\n",
    "import numpy as np"
   ]
  },
  {
   "cell_type": "markdown",
   "metadata": {},
   "source": [
    "Let us start by defining the components of the perceptron we know: startweights and training data. "
   ]
  },
  {
   "cell_type": "code",
   "execution_count": 58,
   "metadata": {},
   "outputs": [],
   "source": [
    "start_weights = np.array([0.5,0.5])\n",
    "X = np.array([[1,1,1],[1,0,0],[0,0,0]])  # data from example 3"
   ]
  },
  {
   "cell_type": "markdown",
   "metadata": {},
   "source": [
    "The data X is our example data from lecture, e.g.: "
   ]
  },
  {
   "cell_type": "code",
   "execution_count": 59,
   "metadata": {},
   "outputs": [
    {
     "name": "stdout",
     "output_type": "stream",
     "text": [
      "[1 1 1]\n"
     ]
    }
   ],
   "source": [
    "x_0 = X[0]\n",
    "print(x_0)"
   ]
  },
  {
   "cell_type": "markdown",
   "metadata": {},
   "source": [
    "In the next step, we have to build the class of our perceptron"
   ]
  },
  {
   "cell_type": "code",
   "execution_count": 71,
   "metadata": {},
   "outputs": [],
   "source": [
    "class Perceptron(object):\n",
    "    def __init__(self, iters, sw):\n",
    "        self.weights = sw\n",
    "        self.weights = np.insert(self.weights, 0, 0)  # add bias weight: b w0 w1\n",
    "        self.num_iterations = iters\n",
    "        print(\"Init perceptron with weights {}\".format(self.weights))\n",
    "        \n",
    "    def activation_function(self, x):\n",
    "        return 1 if x >= 0 else 0\n",
    "    \n",
    "    def train(self, X):\n",
    "        self.X = X\n",
    "        for iteration in range(self.num_iterations):\n",
    "            for i in range(len(self.X)):\n",
    "                x = self.X[i, 0:2]  # select input vector\n",
    "                y = self.X[i, -1]  # select class\n",
    "                print(\"Try to predict input {} with class {}\".format(x,y))\n",
    "                x = np.insert(x, 0, 1)  # add bias\n",
    "                y_in = self.weights.T.dot(x)\n",
    "                y_estm = self.activation_function(y_in)\n",
    "                if(y_estm != y):\n",
    "                    print(\"Estimate {} does not equal {}\".format(y_estm,y))\n",
    "                    if(y_in < 0): self.weights = self.weights + x\n",
    "                    else: self.weights = self.weights - x \n",
    "                    print(\"Update weights {} after learning {}\".format(self.weights, i))\n",
    "                else: print(\"Estimate {} equals {}\".format(y_estm,y))"
   ]
  },
  {
   "cell_type": "markdown",
   "metadata": {},
   "source": [
    "Now we are ready to use it. Lets initialize our perceptron:"
   ]
  },
  {
   "cell_type": "code",
   "execution_count": 77,
   "metadata": {},
   "outputs": [
    {
     "name": "stdout",
     "output_type": "stream",
     "text": [
      "Init perceptron with weights [0.  0.5 0.5]\n"
     ]
    }
   ],
   "source": [
    "my_perceptron = Perceptron(iters=5, sw=start_weights)"
   ]
  },
  {
   "cell_type": "markdown",
   "metadata": {},
   "source": [
    "Now we can start the training procedure."
   ]
  },
  {
   "cell_type": "code",
   "execution_count": 78,
   "metadata": {},
   "outputs": [
    {
     "name": "stdout",
     "output_type": "stream",
     "text": [
      "Try to predict input [1 1] with class 1\n",
      "Estimate 1 equals 1\n",
      "Try to predict input [1 0] with class 0\n",
      "Estimate 1 does not equal 0\n",
      "Update weights [-1.  -0.5  0.5] after learning 1\n",
      "Try to predict input [0 0] with class 0\n",
      "Estimate 0 equals 0\n",
      "Try to predict input [1 1] with class 1\n",
      "Estimate 0 does not equal 1\n",
      "Update weights [0.  0.5 1.5] after learning 0\n",
      "Try to predict input [1 0] with class 0\n",
      "Estimate 1 does not equal 0\n",
      "Update weights [-1.  -0.5  1.5] after learning 1\n",
      "Try to predict input [0 0] with class 0\n",
      "Estimate 0 equals 0\n",
      "Try to predict input [1 1] with class 1\n",
      "Estimate 1 equals 1\n",
      "Try to predict input [1 0] with class 0\n",
      "Estimate 0 equals 0\n",
      "Try to predict input [0 0] with class 0\n",
      "Estimate 0 equals 0\n",
      "Try to predict input [1 1] with class 1\n",
      "Estimate 1 equals 1\n",
      "Try to predict input [1 0] with class 0\n",
      "Estimate 0 equals 0\n",
      "Try to predict input [0 0] with class 0\n",
      "Estimate 0 equals 0\n",
      "Try to predict input [1 1] with class 1\n",
      "Estimate 1 equals 1\n",
      "Try to predict input [1 0] with class 0\n",
      "Estimate 0 equals 0\n",
      "Try to predict input [0 0] with class 0\n",
      "Estimate 0 equals 0\n"
     ]
    }
   ],
   "source": [
    "my_perceptron.train(X)"
   ]
  },
  {
   "cell_type": "markdown",
   "metadata": {},
   "source": [
    "Homework: Implement the convergence condition and print out the results of the last iteration."
   ]
  },
  {
   "cell_type": "code",
   "execution_count": null,
   "metadata": {},
   "outputs": [],
   "source": []
  }
 ],
 "metadata": {
  "kernelspec": {
   "display_name": "Python 3",
   "language": "python",
   "name": "python3"
  },
  "language_info": {
   "codemirror_mode": {
    "name": "ipython",
    "version": 3
   },
   "file_extension": ".py",
   "mimetype": "text/x-python",
   "name": "python",
   "nbconvert_exporter": "python",
   "pygments_lexer": "ipython3",
   "version": "3.7.6"
  }
 },
 "nbformat": 4,
 "nbformat_minor": 4
}
